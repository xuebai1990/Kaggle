{
 "cells": [
  {
   "cell_type": "code",
   "execution_count": 1,
   "metadata": {
    "collapsed": true
   },
   "outputs": [],
   "source": [
    "import pandas as pd\n",
    "import numpy as np\n",
    "\n",
    "train = pd.read_json('train.json')\n",
    "test = pd.read_json('test.json')"
   ]
  },
  {
   "cell_type": "code",
   "execution_count": 8,
   "metadata": {},
   "outputs": [
    {
     "name": "stdout",
     "output_type": "stream",
     "text": [
      "(1604, 5625) (1604, 5625) (8424, 5625) (8424, 5625)\n"
     ]
    }
   ],
   "source": [
    "train_band1 = np.array([np.array(band) for band in train['band_1']])\n",
    "train_band2 = np.array([np.array(band) for band in train['band_2']])\n",
    "test_band1 = np.array([np.array(band) for band in test['band_1']])\n",
    "test_band2 = np.array([np.array(band) for band in test['band_2']])\n",
    "print(train_band1.shape, train_band2.shape, test_band1.shape, test_band2.shape)"
   ]
  },
  {
   "cell_type": "code",
   "execution_count": 20,
   "metadata": {},
   "outputs": [
    {
     "name": "stdout",
     "output_type": "stream",
     "text": [
      "(4812, 5625) (4812, 5625)\n"
     ]
    }
   ],
   "source": [
    "train_band1 = train_band1.reshape((-1, 75, 75))\n",
    "flip1 = np.flip(train_band1, 1)\n",
    "flip2 = np.flip(train_band1, 2)\n",
    "train_band1 = np.concatenate([train_band1, flip1, flip2], axis=0)\n",
    "train_band1 = train_band1.reshape(-1, 5625)\n",
    "train_band2 = train_band2.reshape((-1, 75, 75))\n",
    "flip1 = np.flip(train_band2, 1)\n",
    "flip2 = np.flip(train_band2, 2)\n",
    "train_band2 = np.concatenate([train_band2, flip1, flip2], axis=0)\n",
    "train_band2 = train_band2.reshape((-1, 5625))\n",
    "print(train_band1.shape, train_band2.shape)"
   ]
  },
  {
   "cell_type": "code",
   "execution_count": 21,
   "metadata": {},
   "outputs": [
    {
     "name": "stdout",
     "output_type": "stream",
     "text": [
      "(13236, 5625) (13236, 5625)\n"
     ]
    }
   ],
   "source": [
    "all_band1 = np.concatenate([train_band1, test_band1], axis = 0)\n",
    "all_band2 = np.concatenate([train_band2, test_band2], axis = 0)\n",
    "print(all_band1.shape, all_band2.shape)"
   ]
  },
  {
   "cell_type": "code",
   "execution_count": 22,
   "metadata": {},
   "outputs": [
    {
     "name": "stdout",
     "output_type": "stream",
     "text": [
      "(13236, 1730) (13236, 2385)\n"
     ]
    }
   ],
   "source": [
    "from sklearn.decomposition import PCA\n",
    "\n",
    "decomp1 = PCA(n_components=0.95)\n",
    "decomp2 = PCA(n_components=0.95)\n",
    "\n",
    "new_band1 = decomp1.fit_transform(all_band1)\n",
    "new_band2 = decomp2.fit_transform(all_band2)\n",
    "\n",
    "print(new_band1.shape, new_band2.shape)"
   ]
  },
  {
   "cell_type": "code",
   "execution_count": 24,
   "metadata": {},
   "outputs": [
    {
     "name": "stdout",
     "output_type": "stream",
     "text": [
      "(4812, 4115) (4812,) (8424, 4115)\n"
     ]
    }
   ],
   "source": [
    "X_train = np.concatenate([new_band1[:4812], new_band2[:4812]], axis=1)\n",
    "test = np.concatenate([new_band1[4812:], new_band2[4812:]], axis=1)\n",
    "Y_train = train['is_iceberg']\n",
    "Y_train = np.concatenate([Y_train, Y_train, Y_train], axis = 0)\n",
    "print(X_train.shape, Y_train.shape, test.shape)"
   ]
  },
  {
   "cell_type": "code",
   "execution_count": 26,
   "metadata": {},
   "outputs": [
    {
     "name": "stdout",
     "output_type": "stream",
     "text": [
      "XGBClassifier 0.452211773862\n",
      "LGBMClassifier 0.535863098278\n",
      "SVC 0.697619246752\n",
      "KNeighborsClassifier 1.43601026013\n",
      "XGBClassifier 0.445853064304\n",
      "LGBMClassifier 0.535871388889\n",
      "SVC 0.688999841943\n",
      "KNeighborsClassifier 1.08428755641\n",
      "XGBClassifier 0.448561505517\n",
      "LGBMClassifier 0.543388383574\n",
      "SVC 0.69566829138\n",
      "KNeighborsClassifier 1.70870523618\n",
      "XGBClassifier 0.443930600651\n",
      "LGBMClassifier 0.534006451045\n",
      "SVC 0.689967708016\n",
      "KNeighborsClassifier 1.40607736667\n",
      "XGBClassifier 0.476543823595\n",
      "LGBMClassifier 0.551620351452\n",
      "SVC 0.688586087825\n",
      "KNeighborsClassifier 2.11452434365\n"
     ]
    }
   ],
   "source": [
    "from sklearn.metrics import log_loss\n",
    "from sklearn.tree import DecisionTreeClassifier\n",
    "from sklearn.ensemble import RandomForestClassifier, AdaBoostClassifier, GradientBoostingClassifier\n",
    "from sklearn.svm import SVC\n",
    "from sklearn.neighbors import KNeighborsClassifier\n",
    "from xgboost import XGBClassifier\n",
    "from sklearn.model_selection import KFold\n",
    "from lightgbm import LGBMClassifier\n",
    "\n",
    "classifiers = [XGBClassifier(), LGBMClassifier(), SVC(probability=True), \\\n",
    "               KNeighborsClassifier()]\n",
    "\n",
    "kf = KFold(n_splits=5, random_state=0)\n",
    "\n",
    "log_cols = ['Classifier', 'log_loss']\n",
    "log = pd.DataFrame(columns=log_cols)\n",
    "\n",
    "acc_dict = {}\n",
    "for (train_index, cv_index) in kf.split(X_train, Y_train):\n",
    "    X_tr = X_train[train_index]\n",
    "    Y_tr = Y_train[train_index]\n",
    "    X_cv = X_train[cv_index]\n",
    "    Y_cv = Y_train[cv_index]\n",
    "    \n",
    "    for clf in classifiers:\n",
    "        name = clf.__class__.__name__\n",
    "        clf.fit(X_tr, Y_tr)\n",
    "        predict = clf.predict_proba(X_cv)\n",
    "        acc = log_loss(Y_cv, predict)\n",
    "        print(name, acc)\n",
    "        if name in acc_dict:\n",
    "            acc_dict[name] += acc\n",
    "        else:\n",
    "            acc_dict[name] = acc\n",
    "            \n",
    "for clf in acc_dict:\n",
    "    acc_dict[clf] /= 5\n",
    "    entry = pd.DataFrame([[clf, acc_dict[clf]]], columns=log_cols)\n",
    "    log = log.append(entry)\n",
    "    "
   ]
  },
  {
   "cell_type": "code",
   "execution_count": 28,
   "metadata": {},
   "outputs": [
    {
     "data": {
      "text/plain": [
       "<matplotlib.axes._subplots.AxesSubplot at 0x123632978>"
      ]
     },
     "execution_count": 28,
     "metadata": {},
     "output_type": "execute_result"
    },
    {
     "data": {
      "image/png": "[encoded data removed]",
      "text/plain": [
       "<matplotlib.figure.Figure at 0x15c937358>"
      ]
     },
     "metadata": {},
     "output_type": "display_data"
    }
   ],
   "source": [
    "import matplotlib.pyplot as plt\n",
    "import seaborn as sns\n",
    "%matplotlib inline\n",
    "\n",
    "plt.xlabel('log_loss')\n",
    "plt.title('Classifier log_loss')\n",
    "\n",
    "sns.set_color_codes(\"muted\")\n",
    "sns.barplot(x='log_loss', y='Classifier', data=log, color=\"b\")"
   ]
  },
  {
   "cell_type": "code",
   "execution_count": 17,
   "metadata": {},
   "outputs": [
    {
     "data": {
      "text/html": [
       "<div>\n",
       "<style>\n",
       "    .dataframe thead tr:only-child th {\n",
       "        text-align: right;\n",
       "    }\n",
       "\n",
       "    .dataframe thead th {\n",
       "        text-align: left;\n",
       "    }\n",
       "\n",
       "    .dataframe tbody tr th {\n",
       "        vertical-align: top;\n",
       "    }\n",
       "</style>\n",
       "<table border=\"1\" class=\"dataframe\">\n",
       "  <thead>\n",
       "    <tr style=\"text-align: right;\">\n",
       "      <th></th>\n",
       "      <th>Classifier</th>\n",
       "      <th>RMSE</th>\n",
       "    </tr>\n",
       "  </thead>\n",
       "  <tbody>\n",
       "    <tr>\n",
       "      <th>0</th>\n",
       "      <td>DecisionTreeClassifier</td>\n",
       "      <td>11.778489</td>\n",
       "    </tr>\n",
       "    <tr>\n",
       "      <th>0</th>\n",
       "      <td>RandomForestClassifier</td>\n",
       "      <td>0.676312</td>\n",
       "    </tr>\n",
       "    <tr>\n",
       "      <th>0</th>\n",
       "      <td>AdaBoostClassifier</td>\n",
       "      <td>0.672589</td>\n",
       "    </tr>\n",
       "    <tr>\n",
       "      <th>0</th>\n",
       "      <td>GradientBoostingClassifier</td>\n",
       "      <td>0.478394</td>\n",
       "    </tr>\n",
       "    <tr>\n",
       "      <th>0</th>\n",
       "      <td>XGBClassifier</td>\n",
       "      <td>0.477159</td>\n",
       "    </tr>\n",
       "    <tr>\n",
       "      <th>0</th>\n",
       "      <td>LGBMClassifier</td>\n",
       "      <td>0.544782</td>\n",
       "    </tr>\n",
       "    <tr>\n",
       "      <th>0</th>\n",
       "      <td>KNeighborsClassifier</td>\n",
       "      <td>1.742533</td>\n",
       "    </tr>\n",
       "  </tbody>\n",
       "</table>\n",
       "</div>"
      ],
      "text/plain": [
       "                   Classifier       RMSE\n",
       "0      DecisionTreeClassifier  11.778489\n",
       "0      RandomForestClassifier   0.676312\n",
       "0          AdaBoostClassifier   0.672589\n",
       "0  GradientBoostingClassifier   0.478394\n",
       "0               XGBClassifier   0.477159\n",
       "0              LGBMClassifier   0.544782\n",
       "0        KNeighborsClassifier   1.742533"
      ]
     },
     "execution_count": 17,
     "metadata": {},
     "output_type": "execute_result"
    }
   ],
   "source": [
    "log.head(7)"
   ]
  },
  {
   "cell_type": "code",
   "execution_count": null,
   "metadata": {
    "collapsed": true
   },
   "outputs": [],
   "source": []
  }
 ],
 "metadata": {
  "kernelspec": {
   "display_name": "Python [default]",
   "language": "python",
   "name": "python3"
  },
  "language_info": {
   "codemirror_mode": {
    "name": "ipython",
    "version": 3
   },
   "file_extension": ".py",
   "mimetype": "text/x-python",
   "name": "python",
   "nbconvert_exporter": "python",
   "pygments_lexer": "ipython3",
   "version": "3.6.1"
  }
 },
 "nbformat": 4,
 "nbformat_minor": 2
}
