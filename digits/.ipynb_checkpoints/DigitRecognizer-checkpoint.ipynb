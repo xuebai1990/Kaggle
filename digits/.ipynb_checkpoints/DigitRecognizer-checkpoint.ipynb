{
 "cells": [
  {
   "cell_type": "markdown",
   "metadata": {},
   "source": [
    "# Digit recognizer"
   ]
  },
  {
   "cell_type": "code",
   "execution_count": 1,
   "metadata": {},
   "outputs": [
    {
     "name": "stderr",
     "output_type": "stream",
     "text": [
      "Using TensorFlow backend.\n"
     ]
    }
   ],
   "source": [
    "import pandas as pd\n",
    "import numpy as np\n",
    "from sklearn.preprocessing import LabelBinarizer\n",
    "from sklearn.model_selection import train_test_split\n",
    "import keras\n",
    "from keras.models import Model\n",
    "from keras import layers\n",
    "from keras.layers import Input, Activation, Dense, Flatten, Conv2D, MaxPooling2D\n",
    "from keras.preprocessing.image import ImageDataGenerator\n",
    "\n",
    "\n",
    "train = pd.read_csv('train.csv')\n",
    "test = pd.read_csv('test.csv')\n",
    "\n"
   ]
  },
  {
   "cell_type": "code",
   "execution_count": null,
   "metadata": {},
   "outputs": [
    {
     "name": "stdout",
     "output_type": "stream",
     "text": [
      "(42000, 28, 28, 1) (42000, 10) (28000, 28, 28, 1)\n"
     ]
    }
   ],
   "source": [
    "train = train.values\n",
    "test = test.values\n",
    "\n",
    "X = train[:,1:]\n",
    "Y = train[:,0]\n",
    "\n",
    "X = np.reshape(X, (X.shape[0], 28, 28))\n",
    "X = np.expand_dims(X, axis=3)\n",
    "\n",
    "Y = np.reshape(Y, (-1, 1))\n",
    "encoder = LabelBinarizer().fit(Y)\n",
    "Y = encoder.transform(Y)\n",
    "\n",
    "test = np.reshape(test, (test.shape[0], 28, 28))\n",
    "test = np.expand_dims(test, axis=3)\n",
    "\n",
    "print(X.shape, Y.shape, test.shape)\n",
    "\n",
    "X = X/255.0\n",
    "test = test/255.0"
   ]
  },
  {
   "cell_type": "code",
   "execution_count": null,
   "metadata": {},
   "outputs": [
    {
     "name": "stderr",
     "output_type": "stream",
     "text": [
      "/Users/bai/anaconda/lib/python3.6/site-packages/keras/preprocessing/image.py:653: UserWarning: Expected input to be images (as Numpy array) following the data format convention \"channels_last\" (channels on axis 3), i.e. expected either 1, 3 or 4 channels on axis 3. However, it was passed an array with shape (37800, 28, 28, 1) (1 channels).\n",
      "  ' (' + str(x.shape[self.channel_axis]) + ' channels).')\n"
     ]
    },
    {
     "name": "stdout",
     "output_type": "stream",
     "text": [
      "Epoch 1/30\n"
     ]
    }
   ],
   "source": [
    "def model(input_shape):\n",
    "    X_input = Input(input_shape)\n",
    "    \n",
    "    X = Conv2D(20, (5, 5), strides = (1, 1), padding='same')(X_input)\n",
    "    X = Activation('relu')(X)\n",
    "    X = MaxPooling2D(pool_size = (2, 2), strides = (2, 2))(X)\n",
    "    \n",
    "    X = Conv2D(50, (5, 5), strides = (1, 1), padding='same')(X)\n",
    "    X = Activation('relu')(X)\n",
    "    X = MaxPooling2D(pool_size = (2, 2), strides = (2, 2))(X)\n",
    "    \n",
    "    X = Flatten()(X)\n",
    "    X = Dense(500, activation='relu')(X)\n",
    "    X = Dense(10, activation='softmax')(X)\n",
    "    \n",
    "    model = Model(inputs=X_input, outputs=X)\n",
    "    \n",
    "    return model\n",
    "\n",
    "digit = model((28, 28, 1))\n",
    "X_train, X_test, Y_train, Y_test = train_test_split(X, Y, test_size=0.1, random_state=0)\n",
    "\n",
    "opt = keras.optimizers.Adam(lr=0.0001, beta_1=0.9, beta_2=0.999, epsilon=1e-08, decay=0.0)\n",
    "digit.compile(loss='categorical_crossentropy', optimizer=opt, metrics=['accuracy'])\n",
    "\n",
    "# Learning rete reduction\n",
    "cb = keras.callbacks.ReduceLROnPlateau(monitor='val_acc', factor=0.2, patience=3, \\\n",
    "                        verbose=0, mode='auto', epsilon=0.001, cooldown=0, min_lr=0.000001)\n",
    "\n",
    "# Data augmentation\n",
    "datagen = ImageDataGenerator(featurewise_center=False,\n",
    "    samplewise_center=False,\n",
    "    featurewise_std_normalization=False,\n",
    "    samplewise_std_normalization=False,\n",
    "    zca_whitening=False,\n",
    "    zca_epsilon=1e-6,\n",
    "    rotation_range=10.,\n",
    "    width_shift_range=0.1,\n",
    "    height_shift_range=0.1,\n",
    "    shear_range=0.,\n",
    "    zoom_range=0.1,\n",
    "    channel_shift_range=0.,\n",
    "    fill_mode='nearest',\n",
    "    cval=0.,\n",
    "    horizontal_flip=False,\n",
    "    vertical_flip=False,\n",
    "    rescale=None,\n",
    "    preprocessing_function=None)\n",
    "\n",
    "datagen.fit(X_train)\n",
    "\n",
    "\n",
    "digit.fit_generator(datagen.flow(X_train, Y_train, batch_size=50), steps_per_epoch=len(X_train)/50, \\\n",
    "                    validation_data=(X_test, Y_test), epochs=30, callbacks=[cb])        \n",
    "    \n",
    "    "
   ]
  },
  {
   "cell_type": "code",
   "execution_count": null,
   "metadata": {},
   "outputs": [],
   "source": [
    "result = digit.predict(test)\n",
    "result = encoder.inverse_transform(result)\n",
    "print(result.shape)"
   ]
  },
  {
   "cell_type": "code",
   "execution_count": null,
   "metadata": {
    "collapsed": true
   },
   "outputs": [],
   "source": [
    "imageId = [i for i in range(1, result.shape[0]+1)]\n",
    "submit = pd.DataFrame({'ImageId':imageId, 'Label':result})\n",
    "submit.to_csv('submit.csv', index=False)"
   ]
  },
  {
   "cell_type": "code",
   "execution_count": null,
   "metadata": {
    "collapsed": true
   },
   "outputs": [],
   "source": []
  }
 ],
 "metadata": {
  "kernelspec": {
   "display_name": "Python 3",
   "language": "python",
   "name": "python3"
  },
  "language_info": {
   "codemirror_mode": {
    "name": "ipython",
    "version": 3
   },
   "file_extension": ".py",
   "mimetype": "text/x-python",
   "name": "python",
   "nbconvert_exporter": "python",
   "pygments_lexer": "ipython3",
   "version": "3.6.1"
  }
 },
 "nbformat": 4,
 "nbformat_minor": 2
}
