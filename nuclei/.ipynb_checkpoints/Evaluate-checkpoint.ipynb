{
 "cells": [
  {
   "cell_type": "code",
   "execution_count": 1,
   "metadata": {
    "collapsed": true
   },
   "outputs": [],
   "source": [
    "import numpy as np\n",
    "from subprocess import check_output\n",
    "from tqdm import tqdm\n",
    "from skimage.transform import resize\n",
    "from skimage.morphology import label\n",
    "from skimage.io import imread, imshow, imread_collection, concatenate_images\n",
    "%matplotlib inline\n",
    "\n",
    "\n",
    "size_height = 384\n",
    "size_width = 384\n",
    "size_channel = 3\n",
    "\n",
    "#train_image_id = check_output([\"ls\", \"stage1_train/\"]).decode(\"utf8\").split()\n",
    "test_image_id = check_output([\"ls\", \"stage1_test/\"]).decode(\"utf8\").split()\n",
    "\n",
    "#X_train = np.zeros((len(train_image_id), size_height, size_width, size_channel), dtype=np.uint8)\n",
    "X_test = np.zeros((len(test_image_id), size_height, size_width, size_channel), dtype=np.uint8)\n",
    "#Y_train = np.zeros((len(train_image_id), size_height, size_width, 1), dtype=np.bool)"
   ]
  },
  {
   "cell_type": "code",
   "execution_count": 2,
   "metadata": {
    "collapsed": true
   },
   "outputs": [],
   "source": [
    "#for ii, image_id in tqdm(enumerate(train_image_id), total=len(train_image_id)):\n",
    "#    path = \"stage1_train/{}/images/{}.png\".format(image_id,image_id)\n",
    "#    image = imread(path)[:,:,:size_channel]\n",
    "#    image = resize(image, (size_height, size_width), mode='constant', preserve_range=True)\n",
    "#    X_train[ii] = image\n",
    "#    mask_path = \"stage1_train/{}/masks/*.png\".format(image_id)\n",
    "#    mask = np.zeros((size_height, size_width, 1), dtype=np.bool)\n",
    "#    masks = imread_collection(mask_path).concatenate()\n",
    "#    for msk in masks:\n",
    "#        msk = np.expand_dims(resize(msk, (size_height, size_width), mode='constant', \\\n",
    "#              preserve_range=True), axis=-1)\n",
    "#        mask = np.maximum(mask, msk)\n",
    "#    Y_train[ii] = mask"
   ]
  },
  {
   "cell_type": "code",
   "execution_count": 3,
   "metadata": {},
   "outputs": [
    {
     "name": "stderr",
     "output_type": "stream",
     "text": [
      "100%|██████████| 65/65 [00:03<00:00, 20.91it/s]\n"
     ]
    }
   ],
   "source": [
    "original_size = []\n",
    "for ii, image_id in tqdm(enumerate(test_image_id), total=len(test_image_id)):\n",
    "    path = \"stage1_test/{}/images/{}.png\".format(image_id,image_id)\n",
    "    image = imread(path)[:,:,:size_channel]\n",
    "    original_size.append(image.shape)\n",
    "    image = resize(image, (size_height, size_width), mode='constant', preserve_range=True)\n",
    "    X_test[ii] = image"
   ]
  },
  {
   "cell_type": "code",
   "execution_count": 4,
   "metadata": {},
   "outputs": [
    {
     "name": "stderr",
     "output_type": "stream",
     "text": [
      "Using TensorFlow backend.\n"
     ]
    }
   ],
   "source": [
    "import tensorflow as tf\n",
    "from keras import backend as K\n",
    "import keras\n",
    "import matplotlib.pyplot as plt\n",
    "\n",
    "# Define metrics and loss function\n",
    "def mean_iou(y_true, y_pred):\n",
    "    prec = []\n",
    "    for t in np.arange(0.5, 1.0, 0.05):\n",
    "        y_pred_ = tf.to_int32(y_pred > t)\n",
    "        score, up_opt = tf.metrics.mean_iou(y_true, y_pred_, 2)\n",
    "        K.get_session().run(tf.local_variables_initializer())\n",
    "        with tf.control_dependencies([up_opt]):\n",
    "            score = tf.identity(score)\n",
    "        prec.append(score)\n",
    "    return K.mean(K.stack(prec), axis=0)"
   ]
  },
  {
   "cell_type": "code",
   "execution_count": null,
   "metadata": {
    "collapsed": true
   },
   "outputs": [],
   "source": [
    "model = keras.models.load_model('modelconv2dT.hdf5', custom_objects={'mean_iou':mean_iou})"
   ]
  },
  {
   "cell_type": "code",
   "execution_count": null,
   "metadata": {},
   "outputs": [],
   "source": [
    "Y_test = model.predict(X_test)\n",
    "Y_test_normal = []\n",
    "\n",
    "for i in tqdm(range(len(Y_test))):\n",
    "    Y_test_normal.append(resize(np.squeeze(Y_test[i]), (original_size[i][0], original_size[i][1]),\\\n",
    "                        mode='constant', preserve_range=True))"
   ]
  },
  {
   "cell_type": "code",
   "execution_count": null,
   "metadata": {},
   "outputs": [],
   "source": [
    "id = 22\n",
    "\n",
    "image_id = test_image_id[id]\n",
    "path = \"stage1_test/{}/images/{}.png\".format(image_id,image_id)\n",
    "image = imread(path)\n",
    "fig, ax = plt.subplots(nrows=1,ncols=2, figsize=(128,128))\n",
    "ax[0].imshow(image)\n",
    "ax[1].imshow(Y_test_normal[id])"
   ]
  },
  {
   "cell_type": "code",
   "execution_count": null,
   "metadata": {
    "collapsed": true
   },
   "outputs": [],
   "source": [
    "# Run-length encoding stolen from https://www.kaggle.com/rakhlin/fast-run-length-encoding-python\n",
    "def rle_encoding(x):\n",
    "    dots = np.where(x.T.flatten() == 1)[0]\n",
    "    run_lengths = []\n",
    "    prev = -2\n",
    "    for b in dots:\n",
    "        if (b>prev+1): run_lengths.extend((b + 1, 0))\n",
    "        run_lengths[-1] += 1\n",
    "        prev = b\n",
    "    return run_lengths\n",
    "\n",
    "def prob_to_rles(x, cutoff=0.5):\n",
    "    lab_img = label(x > cutoff)\n",
    "    for i in range(1, lab_img.max() + 1):\n",
    "        yield rle_encoding(lab_img == i)"
   ]
  },
  {
   "cell_type": "code",
   "execution_count": null,
   "metadata": {
    "collapsed": true
   },
   "outputs": [],
   "source": [
    "new_test_ids = []\n",
    "rles = []\n",
    "for n, id_ in enumerate(test_image_id):\n",
    "    rle = list(prob_to_rles(Y_test_normal[n]))\n",
    "    rles.extend(rle)\n",
    "    new_test_ids.extend([id_] * len(rle))"
   ]
  },
  {
   "cell_type": "code",
   "execution_count": null,
   "metadata": {
    "collapsed": true
   },
   "outputs": [],
   "source": [
    "import pandas as pd\n",
    "\n",
    "submit = pd.DataFrame()\n",
    "submit['ImageId'] = new_test_ids\n",
    "submit['EncodedPixels'] = pd.Series(rles).apply(lambda x: ' '.join(str(y) for y in x))\n",
    "submit.to_csv('submit.csv', index=False)"
   ]
  },
  {
   "cell_type": "code",
   "execution_count": null,
   "metadata": {
    "collapsed": true
   },
   "outputs": [],
   "source": []
  }
 ],
 "metadata": {
  "kernelspec": {
   "display_name": "Python 3",
   "language": "python",
   "name": "python3"
  },
  "language_info": {
   "codemirror_mode": {
    "name": "ipython",
    "version": 3
   },
   "file_extension": ".py",
   "mimetype": "text/x-python",
   "name": "python",
   "nbconvert_exporter": "python",
   "pygments_lexer": "ipython3",
   "version": "3.5.4"
  }
 },
 "nbformat": 4,
 "nbformat_minor": 2
}
